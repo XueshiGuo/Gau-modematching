{
 "cells": [
  {
   "cell_type": "code",
   "execution_count": 1,
   "metadata": {
    "collapsed": false
   },
   "outputs": [
    {
     "name": "stdout",
     "output_type": "stream",
     "text": [
      "Populating the interactive namespace from numpy and matplotlib\n"
     ]
    }
   ],
   "source": [
    "%pylab inline\n",
    "'''\n",
    "modematching is a homemade package directory\n",
    "----------------------------------------------\n",
    "''' \n",
    "from modematching import Optical_Path as OP\n",
    "'''\n",
    "----------------------------------------------\n",
    "'''\n",
    "import numpy as np\n",
    "from ipywidgets import interact\n",
    "from IPython.display import Image\n",
    "from matplotlib import pyplot as plt\n",
    "##"
   ]
  },
  {
   "cell_type": "code",
   "execution_count": 2,
   "metadata": {
    "collapsed": false
   },
   "outputs": [
    {
     "name": "stdout",
     "output_type": "stream",
     "text": [
      "mode_overlop: 0.996682842793\n",
      "Optics --- \n",
      "\tlens_1: @50.0\n",
      "\tlens_2: @130.6\n",
      "\tlens_3: @480.8\n",
      "\tlens_4: @689.2\n",
      "\tlens_5: @876.3\n",
      "Beams --- \n",
      "\tcollimator: z0 -549.219046647 w0 0.387740692416\n",
      "\tSHG: z0 659.2 w0 0.32\n"
     ]
    },
    {
     "data": {
      "image/png": "[encoded data removed]",
      "text/plain": [
       "<matplotlib.figure.Figure at 0x10ed5d630>"
      ]
     },
     "metadata": {},
     "output_type": "display_data"
    }
   ],
   "source": [
    "# all units are in mm\n",
    "@interact(dz_lens1=(-500, 500, .1), dz_lens2=(-500, 500, .1), dz_lens3=(-500, 500, .1), \n",
    "          dz_lens4=(-500, 500, .1), dz_lens5=(-500, 500, .1),dz_SHG=(-500, 500, 0.1))\n",
    "def plot_mode_overlap(dz_lens1=0, dz_lens2=0, dz_lens3=0, dz_lens4=0, dz_lens5=0, dz_SHG=0):\n",
    "    a=OP.load_yml(filename='default')\n",
    "    a.move_optics(opticsname='lens_1', dz=dz_lens1)\n",
    "    a.move_optics(opticsname='lens_2', dz=dz_lens2)\n",
    "    a.move_optics(opticsname='lens_3', dz=dz_lens3)\n",
    "    a.move_optics(opticsname='lens_4', dz=dz_lens4)\n",
    "    a.move_optics(opticsname='lens_5', dz=dz_lens5)\n",
    "    a.move_beam(beamname='SHG',dz=dz_SHG)\n",
    "    b=a.plotdata_OP()\n",
    "    for yn in b[1]:\n",
    "        plt.plot(b[0],yn)\n",
    "    print ('mode_overlop: '+str(a.modematching[0]))\n",
    "    a.show_path()"
   ]
  }
 ],
 "metadata": {
  "anaconda-cloud": {},
  "kernelspec": {
   "display_name": "Python 3",
   "language": "python",
   "name": "python3"
  },
  "language_info": {
   "codemirror_mode": {
    "name": "ipython",
    "version": 3
   },
   "file_extension": ".py",
   "mimetype": "text/x-python",
   "name": "python",
   "nbconvert_exporter": "python",
   "pygments_lexer": "ipython3",
   "version": "3.4.2"
  }
 },
 "nbformat": 4,
 "nbformat_minor": 0
}
